{
  "cells": [
    {
      "cell_type": "code",
      "source": [
        "# https://docs.microsoft.com/en-us/azure/synapse-analytics/spark/microsoft-spark-utilities?pivots=programming-language-python\r\n",
        "# mssparkutils.credentials.help()\r\n",
        "\r\n",
        "import json\r\n",
        "from azure.kusto.data import KustoClient, KustoConnectionStringBuilder\r\n",
        "\r\n",
        "sqldbLinkedServiceName = 'iiotmfgsqldb'\r\n",
        "sqlConnection = json.loads(mssparkutils.credentials.getPropertiesAll(sqldbLinkedServiceName))\r\n",
        "server = sqlConnection[\"Endpoint\"]\r\n",
        "database = sqlConnection[\"Database\"]\r\n",
        "username = sqlConnection[\"Id\"]\r\n",
        "password = sqlConnection[\"AuthKey\"]\r\n",
        "driver= '{ODBC Driver 17 for SQL Server}'\r\n",
        "sqlConnectionString = 'DRIVER='+driver+';SERVER=tcp:'+server+';PORT=1433;DATABASE='+database+';UID='+username+';PWD='+ password\r\n",
        "#print(sqlConnectionString)\r\n",
        "\r\n",
        "kustolinkedServiceName = 'iiotmfgdev'\r\n",
        "kustoConnection = json.loads(mssparkutils.credentials.getPropertiesAll(kustolinkedServiceName))\r\n",
        "kustoConnectionString = KustoConnectionStringBuilder.with_aad_application_token_authentication(kustoConnection[\"Endpoint\"],kustoConnection[\"AuthKey\"])\r\n",
        "kustodb = kustoConnection[\"Database\"]\r\n",
        "#print(kustoConnectionString)"
      ],
      "outputs": [],
      "execution_count": null,
      "metadata": {
        "jupyter": {
          "source_hidden": false,
          "outputs_hidden": false
        },
        "nteract": {
          "transient": {
            "deleting": false
          }
        }
      }
    },
    {
      "cell_type": "code",
      "source": [
        "from manufacturingmetrics.oee import OEE\r\n",
        "\r\n",
        "oeeDate = \"2022-07-01\"\r\n",
        "oee = OEE()\r\n",
        "oeedf = oee.calculateOEE(oeeDate,sqlConnectionString, kustodb, kustoConnectionString)\r\n",
        "oee.saveOEE(oeeDate, oeedf, sqlConnectionString)"
      ],
      "outputs": [],
      "execution_count": null,
      "metadata": {
        "jupyter": {
          "source_hidden": false,
          "outputs_hidden": false
        },
        "nteract": {
          "transient": {
            "deleting": false
          }
        }
      }
    }
  ],
  "metadata": {
    "kernelspec": {
      "name": "synapse_pyspark",
      "language": "Python",
      "display_name": "Synapse PySpark"
    },
    "language_info": {
      "name": "python"
    },
    "kernel_info": {
      "name": "synapse_pyspark"
    },
    "description": null,
    "save_output": true,
    "synapse_widget": {
      "version": "0.1",
      "state": {}
    }
  },
  "nbformat": 4,
  "nbformat_minor": 2
}