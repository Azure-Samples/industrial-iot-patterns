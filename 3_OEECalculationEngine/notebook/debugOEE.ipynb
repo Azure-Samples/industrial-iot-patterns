{
  "cells": [
    {
      "cell_type": "code",
      "execution_count": null,
      "metadata": {},
      "outputs": [],
      "source": [
        "# https://docs.microsoft.com/en-us/azure/synapse-analytics/spark/microsoft-spark-utilities?pivots=programming-language-python\n",
        "# mssparkutils.credentials.help()\n",
        "\n",
        "import json\n",
        "from azure.kusto.data import KustoClient, KustoConnectionStringBuilder\n",
        "\n",
        "sqldbLinkedServiceName = 'iiotmfgsqldb'\n",
        "sqlConnection = json.loads(mssparkutils.credentials.getPropertiesAll(sqldbLinkedServiceName))\n",
        "server = sqlConnection[\"Endpoint\"]\n",
        "database = sqlConnection[\"Database\"]\n",
        "username = sqlConnection[\"Id\"]\n",
        "password = sqlConnection[\"AuthKey\"]\n",
        "driver= '{ODBC Driver 17 for SQL Server}'\n",
        "sqlConnectionString = 'DRIVER='+driver+';SERVER=tcp:'+server+';PORT=1433;DATABASE='+database+';UID='+username+';PWD='+ password\n",
        "#print(sqlConnectionString)\n",
        "\n",
        "kustolinkedServiceName = 'iiotmfgdev'\n",
        "kustoConnection = json.loads(mssparkutils.credentials.getPropertiesAll(kustolinkedServiceName))\n",
        "kustoConnectionString = KustoConnectionStringBuilder.with_aad_application_token_authentication(kustoConnection[\"Endpoint\"],kustoConnection[\"AuthKey\"])\n",
        "kustodb = kustoConnection[\"Database\"]\n"
      ]
    },
    {
      "cell_type": "markdown",
      "metadata": {
        "nteract": {
          "transient": {
            "deleting": false
          }
        }
      },
      "source": [
        "# OEE Date"
      ]
    },
    {
      "cell_type": "code",
      "execution_count": null,
      "metadata": {
        "jupyter": {
          "outputs_hidden": false,
          "source_hidden": false
        },
        "nteract": {
          "transient": {
            "deleting": false
          }
        }
      },
      "outputs": [],
      "source": [
        "oeeDate = \"2022-10-25\""
      ]
    },
    {
      "cell_type": "markdown",
      "metadata": {
        "nteract": {
          "transient": {
            "deleting": false
          }
        }
      },
      "source": [
        "# Get MES Data and Calculate Quality"
      ]
    },
    {
      "cell_type": "code",
      "execution_count": null,
      "metadata": {
        "jupyter": {
          "outputs_hidden": false,
          "source_hidden": false
        },
        "nteract": {
          "transient": {
            "deleting": false
          }
        }
      },
      "outputs": [],
      "source": [
        "import json\n",
        "from typing import List\n",
        "import pyodbc\n",
        "import urllib\n",
        "import pandas as pd\n",
        "import os\n",
        "from datetime import datetime, timedelta\n",
        "from typing import List\n",
        "from azure.kusto.data import KustoClient, KustoConnectionStringBuilder\n",
        "from azure.kusto.data.exceptions import KustoServiceError\n",
        "from azure.kusto.data.helpers import dataframe_from_result_table\n",
        "import os\n",
        "\n",
        "mesOeeDate = \"2022-06-30\"  # overriding this as the the sample MES data is only available for this date\n",
        "productQualityQuery = f\"\"\"\n",
        "    select \n",
        "        l.Id as PlantId, l.PlantName, l.UtcOffsetInHours, \n",
        "        a.Id as AssetId, a.AssetName,ag.NodeId, ag.StatusTagName, ag.UptimeTagValues, ag.DowntimeTagValues,\n",
        "        s.Id as ShiftId, s.ShiftName, s.ShiftStartTime, s.ShiftEndTime,\n",
        "        p.Id as ProductId, p.ProductName, p.IdealProductionUnitsPerMinute, pq.WorkOrder, pq.QuantityIn, pq.QuantityOut, pq.QuantityScraped\n",
        "    from \n",
        "        [Assets] as a, \n",
        "        Locations as l, \n",
        "        AssetTags as ag, \n",
        "        Shifts as s,\n",
        "        Products as p,\n",
        "        ProductQuality as pq\n",
        "    where \n",
        "        a.PlantId = l.Id  and \n",
        "        ag.AssetId = a.Id and \n",
        "        pq.ShiftId = s.Id and\n",
        "        pq.AssetId = a.Id and\n",
        "        p.Id = pq.ProductId and\n",
        "        pq.CreatedTimeStamp = '{mesOeeDate}'\n",
        "    order by l.Id, a.Id\n",
        "\"\"\"   \n",
        "plannedDownTimeQuery = f\"\"\"\n",
        "    select \n",
        "        ShiftId, sum(PlannedDownTimeInMinutes) as PlannedDownTimeInMinutes\n",
        "    from ShiftPlannedDownTime\n",
        "    where CreatedTimeStamp = '{mesOeeDate}'\n",
        "    group by ShiftId\n",
        "\"\"\"\n",
        "mesdf = {}\n",
        "with pyodbc.connect(sqlConnectionString) as conn:\n",
        "    with conn.cursor() as cursor:\n",
        "        qualitydf  = pd.read_sql(productQualityQuery, conn)\n",
        "        downtimedf  = pd.read_sql(plannedDownTimeQuery, conn)\n",
        "        mesdf = pd.merge(qualitydf, downtimedf, how=\"left\",left_on = 'ShiftId', right_on = 'ShiftId')\n",
        "\n",
        "mesdf[\"Quality\"] = (mesdf[\"QuantityOut\"] / (mesdf[\"QuantityOut\"] + mesdf[\"QuantityScraped\"]) ) * 100\n",
        "mesdf.head()"
      ]
    },
    {
      "cell_type": "markdown",
      "metadata": {
        "nteract": {
          "transient": {
            "deleting": false
          }
        }
      },
      "source": [
        "# Calculate Availability"
      ]
    },
    {
      "cell_type": "code",
      "execution_count": null,
      "metadata": {
        "jupyter": {
          "outputs_hidden": false,
          "source_hidden": false
        },
        "nteract": {
          "transient": {
            "deleting": false
          }
        }
      },
      "outputs": [],
      "source": [
        "client = KustoClient(kustoConnectionString)\n",
        "\n",
        "mesdf = mesdf.reset_index()\n",
        "telemetrydf = pd.DataFrame(columns = ['MachineStatus', 'TotalDurationInMinutes','ShiftId','AssetId'])\n",
        "for index, row in mesdf.iterrows():\n",
        "    startDateTime = datetime.strptime(oeeDate + \" \" + row[\"ShiftStartTime\"].strftime('%H:%M:%S'), '%Y-%m-%d %H:%M:%S') + timedelta(hours=row['UtcOffsetInHours'])\n",
        "    endDateTime = datetime.strptime(oeeDate + \" \" + row[\"ShiftEndTime\"].strftime('%H:%M:%S'), '%Y-%m-%d %H:%M:%S') + timedelta(hours=row['UtcOffsetInHours'])\n",
        "    kustoQuery = f\"\"\"\n",
        "        let _startTime = datetime({startDateTime.strftime('%Y-%m-%d %H:%M:%S')});\n",
        "        let _endTime =  datetime({endDateTime.strftime('%Y-%m-%d %H:%M:%S')});\n",
        "        telemetry\n",
        "        | where ExpandedNodeId == \"{row['StatusTagName']}\"\n",
        "        | where SourceTimestamp >= _startTime and SourceTimestamp  <= _endTime\n",
        "        | order by SourceTimestamp asc\n",
        "        | extend prevValue = prev(Value), prevTimestamp = prev(SourceTimestamp,1, _startTime)\n",
        "        | where prevValue != todouble(Value)\n",
        "        | project ExpandedNodeId, Value, prevTimestamp, SourceTimestamp\n",
        "        | extend nextValue = next(Value),  nextTimestamp = next(prevTimestamp,1, _endTime)\n",
        "        | where nextValue != todouble(Value)\n",
        "        | project Duration = todouble(datetime_diff(\"second\",nextTimestamp,prevTimestamp)), MachineStatus = tostring(Value)\n",
        "        | summarize sum(Duration) by MachineStatus\n",
        "        | project MachineStatus, TotalDurationInMinutes = round(sum_Duration / 60)\n",
        "    \"\"\"\n",
        "    #print(kustoQuery)\n",
        "    queryResult = client.execute(kustodb, kustoQuery)    \n",
        "    currentdf = dataframe_from_result_table(queryResult.primary_results[0])\n",
        "    currentdf['ShiftId'] = row['ShiftId']\n",
        "    currentdf['AssetId'] = row['AssetId']\n",
        "    currentdf['TimeStatus'] = currentdf.apply(lambda x: 'UptimeMinutes' if x['MachineStatus'] in row['UptimeTagValues'] else 'DowntimeMinutes', axis=1)\n",
        "    print(currentdf.shape)\n",
        "    telemetrydf = telemetrydf.append(currentdf,ignore_index=True)\n",
        "\n",
        "telemetrydf = telemetrydf.groupby(['AssetId', 'ShiftId', 'TimeStatus'])['TotalDurationInMinutes'].sum().reset_index()\n",
        "machinestatusdf = telemetrydf.pivot_table('TotalDurationInMinutes', ['AssetId', 'ShiftId'], 'TimeStatus')\n",
        "\n",
        "machinestatusdf.head()"
      ]
    },
    {
      "cell_type": "code",
      "execution_count": null,
      "metadata": {
        "jupyter": {
          "outputs_hidden": false,
          "source_hidden": false
        },
        "nteract": {
          "transient": {
            "deleting": false
          }
        }
      },
      "outputs": [],
      "source": [
        "oeedf = pd.merge(mesdf, machinestatusdf, how=\"left\",left_on = ['ShiftId', 'AssetId'], right_on = ['ShiftId', 'AssetId'])\n",
        "oeedf['TotalProductionTimeInMinutes'] =  round((pd.to_datetime(oeedf['ShiftEndTime'],format='%H:%M:%S') -  pd.to_datetime(oeedf['ShiftStartTime'],format='%H:%M:%S')).dt.total_seconds() / 60)\n",
        "oeedf['PlannedProductionTimeInMinutes'] =  oeedf['TotalProductionTimeInMinutes'] - oeedf['PlannedDownTimeInMinutes']\n",
        "oeedf['Availability'] = ((oeedf['PlannedProductionTimeInMinutes'] - oeedf['DowntimeMinutes']) / oeedf['PlannedProductionTimeInMinutes']) * 100\n",
        "\n",
        "# Calculate Performance\n",
        "oeedf['CycleTimeInMinutes'] = (1 /  oeedf['IdealProductionUnitsPerMinute'])\n",
        "oeedf['Performance'] = (((oeedf['QuantityOut'] + oeedf['QuantityScraped']) *  oeedf['CycleTimeInMinutes']) / oeedf['PlannedProductionTimeInMinutes']) * 100\n",
        "\n",
        "# Calculate OEE\n",
        "oeedf['OEE'] =  ((oeedf['Availability']/100) * (oeedf['Performance']/100) * (oeedf['Quality']/100)) * 100\n",
        "\n",
        "# Calculate OEE Losses\n",
        "oeedf['AvailabilityLoss'] = ((oeedf['DowntimeMinutes'] / oeedf['CycleTimeInMinutes']) / ( oeedf['PlannedProductionTimeInMinutes'] / oeedf['CycleTimeInMinutes'])) * 100\n",
        "oeedf['QualityLoss'] = (oeedf['QuantityScraped'] / ( oeedf['PlannedProductionTimeInMinutes'] / oeedf['CycleTimeInMinutes'])) * 100\n",
        "oeedf['SpeedLoss'] = 100 - oeedf['AvailabilityLoss'] -  oeedf['QualityLoss'] - oeedf['OEE']\n",
        "\n",
        "oeedf.head()"
      ]
    }
  ],
  "metadata": {
    "kernel_info": {
      "name": "synapse_pyspark"
    },
    "kernelspec": {
      "display_name": "Python 3.9.13 64-bit (microsoft store)",
      "language": "python",
      "name": "python3"
    },
    "language_info": {
      "name": "python",
      "version": "3.9.13"
    },
    "save_output": true,
    "synapse_widget": {
      "state": {},
      "version": "0.1"
    },
    "vscode": {
      "interpreter": {
        "hash": "e26c73b246f701fd7ac930ed79dba21d807638bf330302ee46d3692ef1c54949"
      }
    }
  },
  "nbformat": 4,
  "nbformat_minor": 2
}
