{
  "cells": [
    {
      "cell_type": "markdown",
      "source": [
        "# Connect with Data Explorer"
      ],
      "metadata": {
        "nteract": {
          "transient": {
            "deleting": false
          }
        }
      }
    },
    {
      "cell_type": "code",
      "source": [
        "# %pip install Kqlmagic --no-cache-dir  --upgrade"
      ],
      "outputs": [],
      "execution_count": null,
      "metadata": {
        "jupyter": {
          "source_hidden": false,
          "outputs_hidden": false
        },
        "nteract": {
          "transient": {
            "deleting": false
          }
        }
      }
    },
    {
      "cell_type": "code",
      "source": [
        "%reload_ext Kqlmagic"
      ],
      "outputs": [],
      "execution_count": null,
      "metadata": {
        "jupyter": {
          "source_hidden": false,
          "outputs_hidden": false
        },
        "nteract": {
          "transient": {
            "deleting": false
          }
        }
      }
    },
    {
      "cell_type": "code",
      "source": [
        "%kql AzureDataExplorer://tenant=\"Microsoft.com\";code;cluster='iiotmfgdev.westus2';database='mfgdb'"
      ],
      "outputs": [],
      "execution_count": null,
      "metadata": {
        "jupyter": {
          "source_hidden": false,
          "outputs_hidden": false
        },
        "nteract": {
          "transient": {
            "deleting": false
          }
        }
      }
    },
    {
      "cell_type": "markdown",
      "source": [
        "# Load telemetry data from Data Explorer in tabular format"
      ],
      "metadata": {
        "nteract": {
          "transient": {
            "deleting": false
          }
        }
      }
    },
    {
      "cell_type": "code",
      "source": [
        "%%kql\r\n",
        "opcua_raw\r\n",
        "| where payload contains \"BatchNumber\" and unixtime_milliseconds_todatetime(todouble(payload.SourceTimestamp)) between (datetime(2022-05-04T20:32:00.000Z).. datetime(2022-05-05T00:50:00.000Z))\r\n",
        "| mv-apply payload on (\r\n",
        "    extend key = tostring(bag_keys(payload)[0])\r\n",
        "    | extend value = payload[key]\r\n",
        "    | summarize b = make_bag(pack(key, value))\r\n",
        ") | evaluate bag_unpack(b)"
      ],
      "outputs": [],
      "execution_count": null,
      "metadata": {
        "jupyter": {
          "source_hidden": false,
          "outputs_hidden": false
        },
        "nteract": {
          "transient": {
            "deleting": false
          }
        }
      }
    },
    {
      "cell_type": "code",
      "source": [
        "import pandas as pd\r\n",
        "telemetrydf = _kql_raw_result_.to_dataframe()"
      ],
      "outputs": [],
      "execution_count": 10,
      "metadata": {
        "jupyter": {
          "source_hidden": false,
          "outputs_hidden": false
        },
        "nteract": {
          "transient": {
            "deleting": false
          }
        }
      }
    },
    {
      "cell_type": "code",
      "source": [
        "# Format Datetime Column\r\n",
        "telemetrydf[\"SourceTimestamp\"] = pd.to_datetime(telemetrydf[\"SourceTimestamp\"],unit='ms')\r\n",
        "print(\"Rows => {0}\".format(telemetrydf.shape[0]))\r\n",
        "print(\"Columns => {0}\".format(telemetrydf.shape[1]))\r\n",
        "telemetrydf.head(5)"
      ],
      "outputs": [
        {
          "output_type": "stream",
          "name": "stdout",
          "text": "Rows => 7711\nColumns => 43\n"
        },
        {
          "output_type": "execute_result",
          "execution_count": 11,
          "data": {
            "text/plain": "   BatchNumber        S1   S10   S11       S12       S13       S14       S15  \\\n0       7423.0  4.998839  39.5  21.9  866.6161  2046.699  2089.468  943.1278   \n1       7424.0  4.999668  39.4  21.8  893.7124  2052.430  2069.875  930.0323   \n2       7425.0  4.999668  39.5  21.9  894.3060  2060.232  2075.162  930.1899   \n3       7426.0  4.999668  39.6  21.9  876.8541  2046.037  2137.928  943.1278   \n4       7427.0  4.999668  39.6  22.1  895.3438  2033.450  2090.136  943.4471   \n\n        S16       S17  ...       S39  S4       S40          S41        S5  \\\n0  22.02698  25.83976  ...  5773.366 NaN  9501.005  7221.264648  4.999668   \n1  22.02698  25.67179  ...  5773.366 NaN  9501.005  7213.028320  4.999668   \n2  22.36291  25.83976  ...  5773.366 NaN  9501.005  7229.500977  4.999668   \n3  22.19494  25.67179  ...  5773.366 NaN  9501.005  7213.028320  4.999668   \n4  22.02698  25.83976  ...  5789.014 NaN  9501.005  7229.500977  4.999668   \n\n         S6        S7    S8    S9         SourceTimestamp  \n0  5.050548  23.57390  27.6  36.1 2022-05-05 00:40:20.077  \n1  5.056084  23.60346  27.7  35.9 2022-05-05 00:40:22.084  \n2  5.048703  23.57944  28.1  35.9 2022-05-05 00:40:24.091  \n3  5.047780  23.60447  28.4  35.9 2022-05-05 00:40:26.098  \n4  5.045012  23.64226  28.8  36.1 2022-05-05 00:40:28.105  \n\n[5 rows x 43 columns]",
            "text/html": "<div>\n<style scoped>\n    .dataframe tbody tr th:only-of-type {\n        vertical-align: middle;\n    }\n\n    .dataframe tbody tr th {\n        vertical-align: top;\n    }\n\n    .dataframe thead th {\n        text-align: right;\n    }\n</style>\n<table border=\"1\" class=\"dataframe\">\n  <thead>\n    <tr style=\"text-align: right;\">\n      <th></th>\n      <th>BatchNumber</th>\n      <th>S1</th>\n      <th>S10</th>\n      <th>S11</th>\n      <th>S12</th>\n      <th>S13</th>\n      <th>S14</th>\n      <th>S15</th>\n      <th>S16</th>\n      <th>S17</th>\n      <th>...</th>\n      <th>S39</th>\n      <th>S4</th>\n      <th>S40</th>\n      <th>S41</th>\n      <th>S5</th>\n      <th>S6</th>\n      <th>S7</th>\n      <th>S8</th>\n      <th>S9</th>\n      <th>SourceTimestamp</th>\n    </tr>\n  </thead>\n  <tbody>\n    <tr>\n      <th>0</th>\n      <td>7423.0</td>\n      <td>4.998839</td>\n      <td>39.5</td>\n      <td>21.9</td>\n      <td>866.6161</td>\n      <td>2046.699</td>\n      <td>2089.468</td>\n      <td>943.1278</td>\n      <td>22.02698</td>\n      <td>25.83976</td>\n      <td>...</td>\n      <td>5773.366</td>\n      <td>NaN</td>\n      <td>9501.005</td>\n      <td>7221.264648</td>\n      <td>4.999668</td>\n      <td>5.050548</td>\n      <td>23.57390</td>\n      <td>27.6</td>\n      <td>36.1</td>\n      <td>2022-05-05 00:40:20.077</td>\n    </tr>\n    <tr>\n      <th>1</th>\n      <td>7424.0</td>\n      <td>4.999668</td>\n      <td>39.4</td>\n      <td>21.8</td>\n      <td>893.7124</td>\n      <td>2052.430</td>\n      <td>2069.875</td>\n      <td>930.0323</td>\n      <td>22.02698</td>\n      <td>25.67179</td>\n      <td>...</td>\n      <td>5773.366</td>\n      <td>NaN</td>\n      <td>9501.005</td>\n      <td>7213.028320</td>\n      <td>4.999668</td>\n      <td>5.056084</td>\n      <td>23.60346</td>\n      <td>27.7</td>\n      <td>35.9</td>\n      <td>2022-05-05 00:40:22.084</td>\n    </tr>\n    <tr>\n      <th>2</th>\n      <td>7425.0</td>\n      <td>4.999668</td>\n      <td>39.5</td>\n      <td>21.9</td>\n      <td>894.3060</td>\n      <td>2060.232</td>\n      <td>2075.162</td>\n      <td>930.1899</td>\n      <td>22.36291</td>\n      <td>25.83976</td>\n      <td>...</td>\n      <td>5773.366</td>\n      <td>NaN</td>\n      <td>9501.005</td>\n      <td>7229.500977</td>\n      <td>4.999668</td>\n      <td>5.048703</td>\n      <td>23.57944</td>\n      <td>28.1</td>\n      <td>35.9</td>\n      <td>2022-05-05 00:40:24.091</td>\n    </tr>\n    <tr>\n      <th>3</th>\n      <td>7426.0</td>\n      <td>4.999668</td>\n      <td>39.6</td>\n      <td>21.9</td>\n      <td>876.8541</td>\n      <td>2046.037</td>\n      <td>2137.928</td>\n      <td>943.1278</td>\n      <td>22.19494</td>\n      <td>25.67179</td>\n      <td>...</td>\n      <td>5773.366</td>\n      <td>NaN</td>\n      <td>9501.005</td>\n      <td>7213.028320</td>\n      <td>4.999668</td>\n      <td>5.047780</td>\n      <td>23.60447</td>\n      <td>28.4</td>\n      <td>35.9</td>\n      <td>2022-05-05 00:40:26.098</td>\n    </tr>\n    <tr>\n      <th>4</th>\n      <td>7427.0</td>\n      <td>4.999668</td>\n      <td>39.6</td>\n      <td>22.1</td>\n      <td>895.3438</td>\n      <td>2033.450</td>\n      <td>2090.136</td>\n      <td>943.4471</td>\n      <td>22.02698</td>\n      <td>25.83976</td>\n      <td>...</td>\n      <td>5789.014</td>\n      <td>NaN</td>\n      <td>9501.005</td>\n      <td>7229.500977</td>\n      <td>4.999668</td>\n      <td>5.045012</td>\n      <td>23.64226</td>\n      <td>28.8</td>\n      <td>36.1</td>\n      <td>2022-05-05 00:40:28.105</td>\n    </tr>\n  </tbody>\n</table>\n<p>5 rows × 43 columns</p>\n</div>"
          },
          "metadata": {}
        }
      ],
      "execution_count": 11,
      "metadata": {
        "jupyter": {
          "source_hidden": false,
          "outputs_hidden": false
        },
        "nteract": {
          "transient": {
            "deleting": false
          }
        }
      }
    },
    {
      "cell_type": "markdown",
      "source": [
        "# Get Process Quality Data"
      ],
      "metadata": {
        "nteract": {
          "transient": {
            "deleting": false
          }
        }
      }
    },
    {
      "cell_type": "code",
      "source": [
        "import os\r\n",
        "from azureml.core.workspace import Workspace\r\n",
        "from azureml.core import Dataset, Datastore, Workspace\r\n",
        "\r\n",
        "ws = Workspace.from_config()\r\n",
        "iiotmfgdatalakestore = Datastore.get(ws,\"iiotmfgdatalakestore\") # provide the Datastore name\r\n",
        "\r\n",
        "qualitydf = Dataset.Tabular.from_delimited_files(path = [(iiotmfgdatalakestore, 'qualitydata/batch-quality-data.csv')]).to_pandas_dataframe()\r\n",
        "print(\"Rows => {0}\".format(qualitydf.shape[0]))\r\n",
        "print(\"Columns => {0}\".format(qualitydf.shape[1]))\r\n",
        "qualitydf.head()"
      ],
      "outputs": [
        {
          "output_type": "stream",
          "name": "stdout",
          "text": "Rows => 9797\nColumns => 2\n"
        },
        {
          "output_type": "execute_result",
          "execution_count": 12,
          "data": {
            "text/plain": "   Quality  BatchNumber\n0        1            1\n1        1            2\n2        1            3\n3        1            4\n4        0            5",
            "text/html": "<div>\n<style scoped>\n    .dataframe tbody tr th:only-of-type {\n        vertical-align: middle;\n    }\n\n    .dataframe tbody tr th {\n        vertical-align: top;\n    }\n\n    .dataframe thead th {\n        text-align: right;\n    }\n</style>\n<table border=\"1\" class=\"dataframe\">\n  <thead>\n    <tr style=\"text-align: right;\">\n      <th></th>\n      <th>Quality</th>\n      <th>BatchNumber</th>\n    </tr>\n  </thead>\n  <tbody>\n    <tr>\n      <th>0</th>\n      <td>1</td>\n      <td>1</td>\n    </tr>\n    <tr>\n      <th>1</th>\n      <td>1</td>\n      <td>2</td>\n    </tr>\n    <tr>\n      <th>2</th>\n      <td>1</td>\n      <td>3</td>\n    </tr>\n    <tr>\n      <th>3</th>\n      <td>1</td>\n      <td>4</td>\n    </tr>\n    <tr>\n      <th>4</th>\n      <td>0</td>\n      <td>5</td>\n    </tr>\n  </tbody>\n</table>\n</div>"
          },
          "metadata": {}
        }
      ],
      "execution_count": 12,
      "metadata": {
        "jupyter": {
          "source_hidden": false,
          "outputs_hidden": false
        },
        "nteract": {
          "transient": {
            "deleting": false
          }
        }
      }
    },
    {
      "cell_type": "markdown",
      "source": [
        "# Join Telemetry and Quality Data"
      ],
      "metadata": {
        "nteract": {
          "transient": {
            "deleting": false
          }
        }
      }
    },
    {
      "cell_type": "code",
      "source": [
        "finaldf = pd.merge(telemetrydf,qualitydf, on='BatchNumber')\r\n",
        "print(\"Rows => {0}\".format(finaldf.shape[0]))\r\n",
        "print(\"Columns => {0}\".format(finaldf.shape[1]))\r\n",
        "finaldf.head()"
      ],
      "outputs": [
        {
          "output_type": "stream",
          "name": "stdout",
          "text": "Rows => 7711\nColumns => 44\n"
        },
        {
          "output_type": "execute_result",
          "execution_count": 13,
          "data": {
            "text/plain": "   BatchNumber        S1   S10   S11       S12       S13       S14       S15  \\\n0       7423.0  4.998839  39.5  21.9  866.6161  2046.699  2089.468  943.1278   \n1       7424.0  4.999668  39.4  21.8  893.7124  2052.430  2069.875  930.0323   \n2       7425.0  4.999668  39.5  21.9  894.3060  2060.232  2075.162  930.1899   \n3       7426.0  4.999668  39.6  21.9  876.8541  2046.037  2137.928  943.1278   \n4       7427.0  4.999668  39.6  22.1  895.3438  2033.450  2090.136  943.4471   \n\n        S16       S17  ...  S4       S40          S41        S5        S6  \\\n0  22.02698  25.83976  ... NaN  9501.005  7221.264648  4.999668  5.050548   \n1  22.02698  25.67179  ... NaN  9501.005  7213.028320  4.999668  5.056084   \n2  22.36291  25.83976  ... NaN  9501.005  7229.500977  4.999668  5.048703   \n3  22.19494  25.67179  ... NaN  9501.005  7213.028320  4.999668  5.047780   \n4  22.02698  25.83976  ... NaN  9501.005  7229.500977  4.999668  5.045012   \n\n         S7    S8    S9         SourceTimestamp  Quality  \n0  23.57390  27.6  36.1 2022-05-05 00:40:20.077        1  \n1  23.60346  27.7  35.9 2022-05-05 00:40:22.084        1  \n2  23.57944  28.1  35.9 2022-05-05 00:40:24.091        1  \n3  23.60447  28.4  35.9 2022-05-05 00:40:26.098        1  \n4  23.64226  28.8  36.1 2022-05-05 00:40:28.105        1  \n\n[5 rows x 44 columns]",
            "text/html": "<div>\n<style scoped>\n    .dataframe tbody tr th:only-of-type {\n        vertical-align: middle;\n    }\n\n    .dataframe tbody tr th {\n        vertical-align: top;\n    }\n\n    .dataframe thead th {\n        text-align: right;\n    }\n</style>\n<table border=\"1\" class=\"dataframe\">\n  <thead>\n    <tr style=\"text-align: right;\">\n      <th></th>\n      <th>BatchNumber</th>\n      <th>S1</th>\n      <th>S10</th>\n      <th>S11</th>\n      <th>S12</th>\n      <th>S13</th>\n      <th>S14</th>\n      <th>S15</th>\n      <th>S16</th>\n      <th>S17</th>\n      <th>...</th>\n      <th>S4</th>\n      <th>S40</th>\n      <th>S41</th>\n      <th>S5</th>\n      <th>S6</th>\n      <th>S7</th>\n      <th>S8</th>\n      <th>S9</th>\n      <th>SourceTimestamp</th>\n      <th>Quality</th>\n    </tr>\n  </thead>\n  <tbody>\n    <tr>\n      <th>0</th>\n      <td>7423.0</td>\n      <td>4.998839</td>\n      <td>39.5</td>\n      <td>21.9</td>\n      <td>866.6161</td>\n      <td>2046.699</td>\n      <td>2089.468</td>\n      <td>943.1278</td>\n      <td>22.02698</td>\n      <td>25.83976</td>\n      <td>...</td>\n      <td>NaN</td>\n      <td>9501.005</td>\n      <td>7221.264648</td>\n      <td>4.999668</td>\n      <td>5.050548</td>\n      <td>23.57390</td>\n      <td>27.6</td>\n      <td>36.1</td>\n      <td>2022-05-05 00:40:20.077</td>\n      <td>1</td>\n    </tr>\n    <tr>\n      <th>1</th>\n      <td>7424.0</td>\n      <td>4.999668</td>\n      <td>39.4</td>\n      <td>21.8</td>\n      <td>893.7124</td>\n      <td>2052.430</td>\n      <td>2069.875</td>\n      <td>930.0323</td>\n      <td>22.02698</td>\n      <td>25.67179</td>\n      <td>...</td>\n      <td>NaN</td>\n      <td>9501.005</td>\n      <td>7213.028320</td>\n      <td>4.999668</td>\n      <td>5.056084</td>\n      <td>23.60346</td>\n      <td>27.7</td>\n      <td>35.9</td>\n      <td>2022-05-05 00:40:22.084</td>\n      <td>1</td>\n    </tr>\n    <tr>\n      <th>2</th>\n      <td>7425.0</td>\n      <td>4.999668</td>\n      <td>39.5</td>\n      <td>21.9</td>\n      <td>894.3060</td>\n      <td>2060.232</td>\n      <td>2075.162</td>\n      <td>930.1899</td>\n      <td>22.36291</td>\n      <td>25.83976</td>\n      <td>...</td>\n      <td>NaN</td>\n      <td>9501.005</td>\n      <td>7229.500977</td>\n      <td>4.999668</td>\n      <td>5.048703</td>\n      <td>23.57944</td>\n      <td>28.1</td>\n      <td>35.9</td>\n      <td>2022-05-05 00:40:24.091</td>\n      <td>1</td>\n    </tr>\n    <tr>\n      <th>3</th>\n      <td>7426.0</td>\n      <td>4.999668</td>\n      <td>39.6</td>\n      <td>21.9</td>\n      <td>876.8541</td>\n      <td>2046.037</td>\n      <td>2137.928</td>\n      <td>943.1278</td>\n      <td>22.19494</td>\n      <td>25.67179</td>\n      <td>...</td>\n      <td>NaN</td>\n      <td>9501.005</td>\n      <td>7213.028320</td>\n      <td>4.999668</td>\n      <td>5.047780</td>\n      <td>23.60447</td>\n      <td>28.4</td>\n      <td>35.9</td>\n      <td>2022-05-05 00:40:26.098</td>\n      <td>1</td>\n    </tr>\n    <tr>\n      <th>4</th>\n      <td>7427.0</td>\n      <td>4.999668</td>\n      <td>39.6</td>\n      <td>22.1</td>\n      <td>895.3438</td>\n      <td>2033.450</td>\n      <td>2090.136</td>\n      <td>943.4471</td>\n      <td>22.02698</td>\n      <td>25.83976</td>\n      <td>...</td>\n      <td>NaN</td>\n      <td>9501.005</td>\n      <td>7229.500977</td>\n      <td>4.999668</td>\n      <td>5.045012</td>\n      <td>23.64226</td>\n      <td>28.8</td>\n      <td>36.1</td>\n      <td>2022-05-05 00:40:28.105</td>\n      <td>1</td>\n    </tr>\n  </tbody>\n</table>\n<p>5 rows × 44 columns</p>\n</div>"
          },
          "metadata": {}
        }
      ],
      "execution_count": 13,
      "metadata": {
        "jupyter": {
          "source_hidden": false,
          "outputs_hidden": false
        },
        "nteract": {
          "transient": {
            "deleting": false
          }
        }
      }
    },
    {
      "cell_type": "markdown",
      "source": [
        "# Upload joined process quality data to Datalake"
      ],
      "metadata": {
        "nteract": {
          "transient": {
            "deleting": false
          }
        }
      }
    },
    {
      "cell_type": "code",
      "source": [
        "localDataDirectoryName = \"data\"\r\n",
        "datasetFileName = \"/iiot_quality_labeled_data.csv\"\r\n",
        "\r\n",
        "data_folder = os.path.join(os.getcwd(), localDataDirectoryName)\r\n",
        "os.makedirs(data_folder, exist_ok=True)\r\n",
        "\r\n",
        "# Save dataframe to local file\r\n",
        "finaldf.to_csv(\"{0}{1}\".format(data_folder,datasetFileName),index=False)\r\n",
        "\r\n",
        "# Upload file to Datalake\r\n",
        "iiotmfgdatalakestore.upload_files(files=[\"{0}{1}\".format(data_folder,datasetFileName)],overwrite=True)"
      ],
      "outputs": [
        {
          "output_type": "stream",
          "name": "stdout",
          "text": "Uploading an estimated of 1 files\nUploading /mnt/batch/tasks/shared/LS_root/mounts/clusters/jomitdev/code/Users/jovagh/data/iiot_quality_labeled_data.csv\nUploaded /mnt/batch/tasks/shared/LS_root/mounts/clusters/jomitdev/code/Users/jovagh/data/iiot_quality_labeled_data.csv, 1 files out of an estimated total of 1\nUploaded 1 files\n"
        },
        {
          "output_type": "execute_result",
          "execution_count": 18,
          "data": {
            "text/plain": "$AZUREML_DATAREFERENCE_iiotmfgdatalakestore"
          },
          "metadata": {}
        }
      ],
      "execution_count": 18,
      "metadata": {
        "jupyter": {
          "source_hidden": false,
          "outputs_hidden": false
        },
        "nteract": {
          "transient": {
            "deleting": false
          }
        }
      }
    },
    {
      "cell_type": "markdown",
      "source": [
        "# Register dataset in workspace"
      ],
      "metadata": {
        "nteract": {
          "transient": {
            "deleting": false
          }
        }
      }
    },
    {
      "cell_type": "code",
      "source": [
        "iiot_quality_dataset = Dataset.Tabular.from_delimited_files(path=[(iiotmfgdatalakestore, datasetFileName)])\r\n",
        "iiot_quality_dataset = iiot_quality_dataset.register(workspace=ws, name=\"iiot_quality_labeled_data\", description=\"raw telemetry data merged with quality data\",create_new_version=True)"
      ],
      "outputs": [],
      "execution_count": 19,
      "metadata": {
        "jupyter": {
          "source_hidden": false,
          "outputs_hidden": false
        },
        "nteract": {
          "transient": {
            "deleting": false
          }
        }
      }
    },
    {
      "cell_type": "code",
      "source": [
        "allds = Dataset.get_all(ws)\r\n",
        "print(allds)"
      ],
      "outputs": [
        {
          "output_type": "stream",
          "name": "stdout",
          "text": "{ 'iiot_quality_labeled_data': DatasetRegistration(id='109d19cf-8980-4ef5-a0d5-3de63bfc6fa7', name='iiot_quality_labeled_data', version=1, description='raw telemetry data merged with quality data', tags={})}\n"
        }
      ],
      "execution_count": 20,
      "metadata": {
        "jupyter": {
          "source_hidden": false,
          "outputs_hidden": false
        },
        "nteract": {
          "transient": {
            "deleting": false
          }
        }
      }
    }
  ],
  "metadata": {
    "kernelspec": {
      "name": "python38-azureml",
      "language": "python",
      "display_name": "Python 3.8 - AzureML"
    },
    "language_info": {
      "name": "python",
      "version": "3.8.5",
      "mimetype": "text/x-python",
      "codemirror_mode": {
        "name": "ipython",
        "version": 3
      },
      "pygments_lexer": "ipython3",
      "nbconvert_exporter": "python",
      "file_extension": ".py"
    },
    "kernel_info": {
      "name": "python38-azureml"
    },
    "nteract": {
      "version": "nteract-front-end@1.0.0"
    }
  },
  "nbformat": 4,
  "nbformat_minor": 0
}