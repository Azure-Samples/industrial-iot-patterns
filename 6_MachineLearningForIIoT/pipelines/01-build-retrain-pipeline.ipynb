{
  "cells": [
    {
      "cell_type": "markdown",
      "metadata": {
        "nteract": {
          "transient": {
            "deleting": false
          }
        }
      },
      "source": [
        "# Get Azure ML Workspace"
      ]
    },
    {
      "cell_type": "code",
      "execution_count": 1,
      "metadata": {
        "gather": {
          "logged": 1643075499773
        },
        "jupyter": {
          "outputs_hidden": false,
          "source_hidden": false
        },
        "nteract": {
          "transient": {
            "deleting": false
          }
        }
      },
      "outputs": [
        {
          "name": "stdout",
          "output_type": "stream",
          "text": [
            "Workspace Name: iiotml\n",
            "Azure Region: westus2\n",
            "Resource Group: iiotsample\n"
          ]
        }
      ],
      "source": [
        "from azureml.core import Workspace, Environment, Experiment\n",
        "ws = Workspace.from_config()\n",
        "\n",
        "print('Workspace Name: ' + ws.name, \n",
        "      'Azure Region: ' + ws.location, \n",
        "      'Resource Group: ' + ws.resource_group, \n",
        "      sep = '\\n')"
      ]
    },
    {
      "cell_type": "markdown",
      "metadata": {
        "nteract": {
          "transient": {
            "deleting": false
          }
        }
      },
      "source": [
        "# Create Conda Environment with Dependencies"
      ]
    },
    {
      "cell_type": "code",
      "execution_count": 2,
      "metadata": {
        "gather": {
          "logged": 1643075502677
        },
        "jupyter": {
          "outputs_hidden": false,
          "source_hidden": false
        },
        "nteract": {
          "transient": {
            "deleting": false
          }
        }
      },
      "outputs": [],
      "source": [
        "from azureml.core import Environment\n",
        "from azureml.core.conda_dependencies import CondaDependencies\n",
        "\n",
        "train_env = Environment(name=\"train-env\")\n",
        "train_conda_deps = CondaDependencies.create(pip_packages=['pandas','azureml-core','azureml-dataset-runtime[fuse]','numpy','scikit-learn','azure-kusto-data[pandas]','lightgbm'])\n",
        "train_env.python.conda_dependencies = train_conda_deps"
      ]
    },
    {
      "cell_type": "markdown",
      "metadata": {
        "nteract": {
          "transient": {
            "deleting": false
          }
        }
      },
      "source": [
        "# Create Retraining Pipeline"
      ]
    },
    {
      "cell_type": "code",
      "execution_count": 3,
      "metadata": {
        "gather": {
          "logged": 1643075939831
        },
        "jupyter": {
          "outputs_hidden": false,
          "source_hidden": false
        },
        "nteract": {
          "transient": {
            "deleting": false
          }
        }
      },
      "outputs": [],
      "source": [
        "from azureml.core.compute import AmlCompute\n",
        "from azureml.pipeline.core import Pipeline, PipelineParameter\n",
        "from azureml.pipeline.steps import PythonScriptStep\n",
        "from azureml.core.runconfig import RunConfiguration\n",
        "\n",
        "compute = AmlCompute(ws, \"cpu-cluster\")\n",
        "\n",
        "retrainRunConfig = RunConfiguration()\n",
        "retrainRunConfig.target = compute\n",
        "retrainRunConfig.environment = train_env\n",
        "\n",
        "modelname_param = PipelineParameter(name=\"modelname\", default_value='iiot-quality-lgbm')\n",
        "selected_features_param = PipelineParameter(name=\"selectedfeatures\", default_value=\"S16,S20,S19,S18,S29,S41,S9,S10,S8,S11,S14,S13,S28,S15,S26,S33,S7,S3,S39\")\n",
        "\n",
        "buildDatasetStep = PythonScriptStep(name=\"build-datasets\",\n",
        "    script_name=\"build-datasets.py\", \n",
        "    runconfig = retrainRunConfig, \n",
        "    compute_target=compute, \n",
        "    source_directory=\".\",\n",
        "    allow_reuse=False)\n",
        "\n",
        "buildModelStep = PythonScriptStep(name=\"build-model\",\n",
        "    arguments=[\"--modelname\", modelname_param, \"--selectedfeatures\", selected_features_param],\n",
        "    script_name=\"build-model.py\", \n",
        "    runconfig = retrainRunConfig, \n",
        "    compute_target=compute, \n",
        "    source_directory=\".\",\n",
        "    allow_reuse=False)\n",
        "\n",
        "buildModelStep.run_after(buildDatasetStep)"
      ]
    },
    {
      "cell_type": "code",
      "execution_count": 4,
      "metadata": {
        "gather": {
          "logged": 1643075942681
        },
        "jupyter": {
          "outputs_hidden": false,
          "source_hidden": false
        },
        "nteract": {
          "transient": {
            "deleting": false
          }
        }
      },
      "outputs": [
        {
          "name": "stdout",
          "output_type": "stream",
          "text": [
            "Step build-model is ready to be created [30249118]\n",
            "Step build-datasets is ready to be created [5a7ac826]\n"
          ]
        },
        {
          "data": {
            "text/plain": [
              "[]"
            ]
          },
          "execution_count": 4,
          "metadata": {},
          "output_type": "execute_result"
        }
      ],
      "source": [
        "retrainingPipeline = Pipeline(workspace=ws, steps=[buildModelStep])\n",
        "\n",
        "retrainingPipeline.validate()"
      ]
    },
    {
      "cell_type": "code",
      "execution_count": null,
      "metadata": {
        "gather": {
          "logged": 1643075948675
        },
        "jupyter": {
          "outputs_hidden": false,
          "source_hidden": false
        },
        "nteract": {
          "transient": {
            "deleting": false
          }
        }
      },
      "outputs": [],
      "source": [
        "retrainPipelineRun = Experiment(ws, 'Model-Training-Pipeline').submit(retrainingPipeline)"
      ]
    },
    {
      "cell_type": "markdown",
      "metadata": {
        "nteract": {
          "transient": {
            "deleting": false
          }
        }
      },
      "source": [
        "# Publish Retraining Pipeline"
      ]
    },
    {
      "cell_type": "code",
      "execution_count": 7,
      "metadata": {
        "gather": {
          "logged": 1643076201913
        },
        "jupyter": {
          "outputs_hidden": false,
          "source_hidden": false
        },
        "nteract": {
          "transient": {
            "deleting": false
          }
        }
      },
      "outputs": [],
      "source": [
        "publishedPipeline = retrainPipelineRun.publish_pipeline(name=\"iiot-quality-training\", description=\"sample pipeline to retrain iiot quality prediction model\",version=\"0.1\")\n",
        "print(\"Newly published pipeline id => \",publishedPipeline.id)\n",
        "print(\"Newly published pipeline endpoint => \", publishedPipeline.endpoint)"
      ]
    }
  ],
  "metadata": {
    "kernel_info": {
      "name": "python38-azureml"
    },
    "kernelspec": {
      "display_name": "Python 3.8 - AzureML",
      "language": "python",
      "name": "python38-azureml"
    },
    "language_info": {
      "codemirror_mode": {
        "name": "ipython",
        "version": 3
      },
      "file_extension": ".py",
      "mimetype": "text/x-python",
      "name": "python",
      "nbconvert_exporter": "python",
      "pygments_lexer": "ipython3",
      "version": "3.8.5"
    },
    "microsoft": {
      "host": {
        "AzureML": {
          "notebookHasBeenCompleted": true
        }
      }
    },
    "nteract": {
      "version": "nteract-front-end@1.0.0"
    }
  },
  "nbformat": 4,
  "nbformat_minor": 0
}
