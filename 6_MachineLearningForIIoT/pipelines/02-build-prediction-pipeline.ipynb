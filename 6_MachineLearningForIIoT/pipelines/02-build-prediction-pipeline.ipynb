{
  "cells": [
    {
      "cell_type": "markdown",
      "source": [
        "# Get Azure ML Workspace"
      ],
      "metadata": {
        "nteract": {
          "transient": {
            "deleting": false
          }
        }
      }
    },
    {
      "cell_type": "code",
      "source": [
        "from azureml.core import Workspace, Environment, Experiment\r\n",
        "ws = Workspace.from_config()\r\n",
        "\r\n",
        "print('Workspace Name: ' + ws.name, \r\n",
        "      'Azure Region: ' + ws.location, \r\n",
        "      'Resource Group: ' + ws.resource_group, \r\n",
        "      sep = '\\n')"
      ],
      "outputs": [],
      "execution_count": null,
      "metadata": {
        "jupyter": {
          "source_hidden": false,
          "outputs_hidden": false
        },
        "nteract": {
          "transient": {
            "deleting": false
          }
        },
        "gather": {
          "logged": 1643075499773
        }
      }
    },
    {
      "cell_type": "markdown",
      "source": [
        "# Create Conda Environment with Dependencies"
      ],
      "metadata": {
        "nteract": {
          "transient": {
            "deleting": false
          }
        }
      }
    },
    {
      "cell_type": "code",
      "source": [
        "from azureml.core import Environment\r\n",
        "from azureml.core.conda_dependencies import CondaDependencies\r\n",
        "\r\n",
        "predict_env = Environment(name=\"predict-env\")\r\n",
        "predict_conda_deps = CondaDependencies.create(pip_packages=['pandas','azureml-core','azureml-dataset-runtime[fuse]','numpy','scikit-learn','azure-kusto-data[pandas]','lightgbm'])\r\n",
        "predict_env.python.conda_dependencies = predict_conda_deps"
      ],
      "outputs": [],
      "execution_count": null,
      "metadata": {
        "jupyter": {
          "source_hidden": false,
          "outputs_hidden": false
        },
        "nteract": {
          "transient": {
            "deleting": false
          }
        },
        "gather": {
          "logged": 1643075502677
        }
      }
    },
    {
      "cell_type": "markdown",
      "source": [
        "# Create Retraining Pipeline"
      ],
      "metadata": {
        "nteract": {
          "transient": {
            "deleting": false
          }
        }
      }
    },
    {
      "cell_type": "code",
      "source": [
        "from azureml.core.compute import AmlCompute\r\n",
        "from azureml.pipeline.core import Pipeline, PipelineParameter\r\n",
        "from azureml.pipeline.steps import PythonScriptStep\r\n",
        "from azureml.core.runconfig import RunConfiguration\r\n",
        "\r\n",
        "compute = AmlCompute(ws, \"cpu-cluster\")\r\n",
        "\r\n",
        "predictRunConfig = RunConfiguration()\r\n",
        "predictRunConfig.target = compute\r\n",
        "predictRunConfig.environment = predict_env\r\n",
        "\r\n",
        "cluster = \"https://iiotmfgdev.westus2.kusto.windows.net\"\r\n",
        "db = \"mfgdb\"\r\n",
        "query=\"opcua_raw | where payload contains 'BatchNumber' and unixtime_milliseconds_todatetime(todouble(payload.SourceTimestamp)) between (now(-10m).. now()) | mv-apply payload on (extend key = tostring(bag_keys(payload)[0]) | extend value = payload[key] | summarize b = make_bag(pack(key, value)) ) | evaluate bag_unpack(b)\"\r\n",
        "\r\n",
        "modelname_param = PipelineParameter(name=\"modelname\", default_value='iiot-quality-lgbm')\r\n",
        "selected_features_param = PipelineParameter(name=\"selectedfeatures\", default_value=\"S16,S20,S19,S18,S29,S41,S9,S10,S8,S11,S14,S13,S28,S15,S26,S33,S7,S3,S39\")\r\n",
        "kustocluster_param = PipelineParameter(name=\"kustocluster\", default_value=cluster)\r\n",
        "kustodb_param = PipelineParameter(name=\"kustodb\", default_value=db)\r\n",
        "kustoquery_param = PipelineParameter(name=\"kustoquery\", default_value=query)\r\n",
        "resultdatastorename_param = PipelineParameter(name=\"resultdatastorename\", default_value='iiotmfgdatalakestore')\r\n",
        "resultfilename_param = PipelineParameter(name=\"resultfilename\", default_value='tmpresults.csv')\r\n",
        "\r\n",
        "predictStep = PythonScriptStep(name=\"predict\",\r\n",
        "    arguments=[\"--modelname\", modelname_param, \r\n",
        "            \"--selectedfeatures\", selected_features_param, \r\n",
        "            \"--kustocluster\", kustocluster_param,\r\n",
        "            \"--kustodb\", kustodb_param,\r\n",
        "            \"--kustoquery\",kustoquery_param,\r\n",
        "            \"--resultdatastorename\", resultdatastorename_param,\r\n",
        "            \"--resultfilename\", resultfilename_param],\r\n",
        "    script_name=\"predict.py\", \r\n",
        "    runconfig = predictRunConfig, \r\n",
        "    compute_target=compute, \r\n",
        "    source_directory=\".\",\r\n",
        "    allow_reuse=False)"
      ],
      "outputs": [],
      "execution_count": null,
      "metadata": {
        "jupyter": {
          "source_hidden": false,
          "outputs_hidden": false
        },
        "nteract": {
          "transient": {
            "deleting": false
          }
        },
        "gather": {
          "logged": 1643075939831
        }
      }
    },
    {
      "cell_type": "code",
      "source": [
        "predictPipeline = Pipeline(workspace=ws, steps=[predictStep])\r\n",
        "\r\n",
        "predictPipeline.validate()"
      ],
      "outputs": [],
      "execution_count": null,
      "metadata": {
        "jupyter": {
          "source_hidden": false,
          "outputs_hidden": false
        },
        "nteract": {
          "transient": {
            "deleting": false
          }
        },
        "gather": {
          "logged": 1643075942681
        }
      }
    },
    {
      "cell_type": "code",
      "source": [
        "predictPipelineRun = Experiment(ws, 'Model-Scoring-Pipeline').submit(predictPipeline)"
      ],
      "outputs": [],
      "execution_count": null,
      "metadata": {
        "jupyter": {
          "source_hidden": false,
          "outputs_hidden": false
        },
        "nteract": {
          "transient": {
            "deleting": false
          }
        },
        "gather": {
          "logged": 1643075948675
        }
      }
    },
    {
      "cell_type": "markdown",
      "source": [
        "# Publish Retraining Pipeline"
      ],
      "metadata": {
        "nteract": {
          "transient": {
            "deleting": false
          }
        }
      }
    },
    {
      "cell_type": "code",
      "source": [
        "publishedPipeline = predictPipelineRun.publish_pipeline(name=\"iiot-quality-prediction\", description=\"sample pipeline to perform batch prediction on iiot data\",version=\"0.1\")\r\n",
        "print(\"Newly published pipeline id => \",publishedPipeline.id)\r\n",
        "print(\"Newly published pipeline endpoint => \", publishedPipeline.endpoint)"
      ],
      "outputs": [],
      "execution_count": null,
      "metadata": {
        "jupyter": {
          "source_hidden": false,
          "outputs_hidden": false
        },
        "nteract": {
          "transient": {
            "deleting": false
          }
        },
        "gather": {
          "logged": 1643076201913
        }
      }
    }
  ],
  "metadata": {
    "kernelspec": {
      "name": "python38-azureml",
      "language": "python",
      "display_name": "Python 3.8 - AzureML"
    },
    "language_info": {
      "name": "python",
      "version": "3.8.5",
      "mimetype": "text/x-python",
      "codemirror_mode": {
        "name": "ipython",
        "version": 3
      },
      "pygments_lexer": "ipython3",
      "nbconvert_exporter": "python",
      "file_extension": ".py"
    },
    "microsoft": {
      "host": {
        "AzureML": {
          "notebookHasBeenCompleted": true
        }
      }
    },
    "nteract": {
      "version": "nteract-front-end@1.0.0"
    },
    "kernel_info": {
      "name": "python38-azureml"
    }
  },
  "nbformat": 4,
  "nbformat_minor": 0
}