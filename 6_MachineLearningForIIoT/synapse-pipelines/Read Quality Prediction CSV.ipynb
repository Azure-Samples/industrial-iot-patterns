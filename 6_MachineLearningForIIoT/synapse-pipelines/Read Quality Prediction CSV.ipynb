{
  "cells": [
    {
      "cell_type": "code",
      "source": [
        "# https://docs.microsoft.com/en-us/azure/synapse-analytics/spark/microsoft-spark-utilities?pivots=programming-language-python\r\n",
        "\r\n",
        "# Data access info\r\n",
        "storage_account_name = \"iiotmfgdatalake\"\r\n",
        "container_name = f\"raw\"\r\n",
        "relative_path = f\"predictionresults/results_4c0ea043-3d03-4373-a0cf-253eb3e66ca1.csv\"\r\n",
        "\r\n",
        "adls_data_path = f\"abfss://{container_name}@{storage_account_name}.dfs.core.windows.net/{relative_path}\"\r\n",
        "print(f\"Reading data from: {adls_data_path}\")\r\n",
        "\r\n",
        "dataDF = spark.read.csv(adls_data_path)\r\n",
        "display(dataDF)"
      ],
      "outputs": [],
      "execution_count": 2,
      "metadata": {
        "collapsed": false
      }
    }
  ],
  "metadata": {
    "kernelspec": {
      "name": "synapse_pyspark",
      "display_name": "Synapse PySpark"
    },
    "language_info": {
      "name": "python"
    },
    "save_output": true,
    "synapse_widget": {
      "version": "0.1",
      "state": {}
    }
  },
  "nbformat": 4,
  "nbformat_minor": 2
}